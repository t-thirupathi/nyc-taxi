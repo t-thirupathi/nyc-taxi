{
 "cells": [
  {
   "cell_type": "code",
   "execution_count": 90,
   "metadata": {},
   "outputs": [],
   "source": [
    "import pandas as pd\n",
    "import numpy as np\n",
    "from datetime import datetime\n",
    "from sklearn.linear_model import LogisticRegression"
   ]
  },
  {
   "cell_type": "code",
   "execution_count": 91,
   "metadata": {},
   "outputs": [],
   "source": [
    "train = pd.read_csv('../input/train.csv')\n",
    "test = pd.read_csv('../input/test.csv')\n",
    "train['pickup_datetime'] = train['pickup_datetime'].apply(lambda x: datetime.strptime(x, '%Y-%m-%d %H:%M:%S'))\n",
    "test['pickup_datetime'] = test['pickup_datetime'].apply(lambda x: datetime.strptime(x, '%Y-%m-%d %H:%M:%S'))"
   ]
  },
  {
   "cell_type": "code",
   "execution_count": 92,
   "metadata": {},
   "outputs": [],
   "source": [
    "#train = train.head(10000)\n",
    "#test = test.head(10000)"
   ]
  },
  {
   "cell_type": "code",
   "execution_count": 93,
   "metadata": {},
   "outputs": [],
   "source": [
    "train['day_of_week'] = train['pickup_datetime'].apply(lambda x: x.weekday())\n",
    "test['day_of_week'] = test['pickup_datetime'].apply(lambda x: x.weekday())\n",
    "train['hour_of_day'] = train['pickup_datetime'].apply(lambda x: x.hour)\n",
    "test['hour_of_day'] = test['pickup_datetime'].apply(lambda x: x.hour)"
   ]
  },
  {
   "cell_type": "code",
   "execution_count": 95,
   "metadata": {},
   "outputs": [],
   "source": [
    "def day_of_week_sine(x):\n",
    "    return np.sin(2 * np.pi * x / 7)\n",
    "\n",
    "train['day_of_week_sine'] = train['day_of_week'].apply(day_of_week_sine)\n",
    "test['day_of_week_sine'] = test['day_of_week'].apply(day_of_week_sine)\n",
    "\n",
    "def hour_of_day_sine(x):\n",
    "    return np.sin(2 * np.pi * x / 24)\n",
    "\n",
    "train['hour_of_day_sine'] = train['hour_of_day'].apply(hour_of_day_sine)\n",
    "test['hour_of_day_sine'] = test['hour_of_day'].apply(hour_of_day_sine)"
   ]
  },
  {
   "cell_type": "code",
   "execution_count": 97,
   "metadata": {},
   "outputs": [],
   "source": [
    "def distance(pickup_latitude, pickup_longitude, dropoff_latitude, dropoff_longitude):\n",
    "    return (dropoff_latitude - pickup_latitude) ** 2 + (dropoff_longitude - pickup_longitude) ** 2\n",
    "\n",
    "train['distance'] = train.apply(lambda x: distance(x['pickup_latitude'], x['pickup_longitude'], x['dropoff_latitude'], x['dropoff_longitude']), axis=1)\n",
    "test['distance'] = test.apply(lambda x: distance(x['pickup_latitude'], x['pickup_longitude'], x['dropoff_latitude'], x['dropoff_longitude']), axis=1)"
   ]
  },
  {
   "cell_type": "code",
   "execution_count": 98,
   "metadata": {},
   "outputs": [
    {
     "data": {
      "text/html": [
       "<div>\n",
       "<style scoped>\n",
       "    .dataframe tbody tr th:only-of-type {\n",
       "        vertical-align: middle;\n",
       "    }\n",
       "\n",
       "    .dataframe tbody tr th {\n",
       "        vertical-align: top;\n",
       "    }\n",
       "\n",
       "    .dataframe thead th {\n",
       "        text-align: right;\n",
       "    }\n",
       "</style>\n",
       "<table border=\"1\" class=\"dataframe\">\n",
       "  <thead>\n",
       "    <tr style=\"text-align: right;\">\n",
       "      <th></th>\n",
       "      <th>passenger_count</th>\n",
       "      <th>vendor_id</th>\n",
       "      <th>distance</th>\n",
       "      <th>day_of_week_sine</th>\n",
       "      <th>hour_of_day_sine</th>\n",
       "      <th>trip_duration</th>\n",
       "    </tr>\n",
       "  </thead>\n",
       "  <tbody>\n",
       "    <tr>\n",
       "      <th>passenger_count</th>\n",
       "      <td>1.000000</td>\n",
       "      <td>0.287415</td>\n",
       "      <td>0.001330</td>\n",
       "      <td>-0.025861</td>\n",
       "      <td>-0.015514</td>\n",
       "      <td>0.008471</td>\n",
       "    </tr>\n",
       "    <tr>\n",
       "      <th>vendor_id</th>\n",
       "      <td>0.287415</td>\n",
       "      <td>1.000000</td>\n",
       "      <td>-0.000699</td>\n",
       "      <td>-0.001321</td>\n",
       "      <td>-0.007698</td>\n",
       "      <td>0.020304</td>\n",
       "    </tr>\n",
       "    <tr>\n",
       "      <th>distance</th>\n",
       "      <td>0.001330</td>\n",
       "      <td>-0.000699</td>\n",
       "      <td>1.000000</td>\n",
       "      <td>0.000150</td>\n",
       "      <td>-0.001626</td>\n",
       "      <td>0.005908</td>\n",
       "    </tr>\n",
       "    <tr>\n",
       "      <th>day_of_week_sine</th>\n",
       "      <td>-0.025861</td>\n",
       "      <td>-0.001321</td>\n",
       "      <td>0.000150</td>\n",
       "      <td>1.000000</td>\n",
       "      <td>-0.000308</td>\n",
       "      <td>0.003657</td>\n",
       "    </tr>\n",
       "    <tr>\n",
       "      <th>hour_of_day_sine</th>\n",
       "      <td>-0.015514</td>\n",
       "      <td>-0.007698</td>\n",
       "      <td>-0.001626</td>\n",
       "      <td>-0.000308</td>\n",
       "      <td>1.000000</td>\n",
       "      <td>-0.006883</td>\n",
       "    </tr>\n",
       "    <tr>\n",
       "      <th>trip_duration</th>\n",
       "      <td>0.008471</td>\n",
       "      <td>0.020304</td>\n",
       "      <td>0.005908</td>\n",
       "      <td>0.003657</td>\n",
       "      <td>-0.006883</td>\n",
       "      <td>1.000000</td>\n",
       "    </tr>\n",
       "  </tbody>\n",
       "</table>\n",
       "</div>"
      ],
      "text/plain": [
       "                  passenger_count  vendor_id  distance  day_of_week_sine  \\\n",
       "passenger_count          1.000000   0.287415  0.001330         -0.025861   \n",
       "vendor_id                0.287415   1.000000 -0.000699         -0.001321   \n",
       "distance                 0.001330  -0.000699  1.000000          0.000150   \n",
       "day_of_week_sine        -0.025861  -0.001321  0.000150          1.000000   \n",
       "hour_of_day_sine        -0.015514  -0.007698 -0.001626         -0.000308   \n",
       "trip_duration            0.008471   0.020304  0.005908          0.003657   \n",
       "\n",
       "                  hour_of_day_sine  trip_duration  \n",
       "passenger_count          -0.015514       0.008471  \n",
       "vendor_id                -0.007698       0.020304  \n",
       "distance                 -0.001626       0.005908  \n",
       "day_of_week_sine         -0.000308       0.003657  \n",
       "hour_of_day_sine          1.000000      -0.006883  \n",
       "trip_duration            -0.006883       1.000000  "
      ]
     },
     "execution_count": 98,
     "metadata": {},
     "output_type": "execute_result"
    }
   ],
   "source": [
    "train_tmp = train[['passenger_count', 'vendor_id', 'distance', 'day_of_week_sine', 'hour_of_day_sine', 'trip_duration']]\n",
    "train_tmp.corr()"
   ]
  },
  {
   "cell_type": "code",
   "execution_count": 100,
   "metadata": {},
   "outputs": [],
   "source": [
    "x_train = train[['passenger_count', 'vendor_id', 'distance', 'day_of_week_sine', 'hour_of_day_sine']]\n",
    "y_train = train['trip_duration']\n",
    "x_test = test[['passenger_count', 'vendor_id', 'distance', 'day_of_week_sine', 'hour_of_day_sine']]"
   ]
  },
  {
   "cell_type": "code",
   "execution_count": null,
   "metadata": {},
   "outputs": [],
   "source": [
    "model = LogisticRegression()\n",
    "model.fit(x_train, y_train)"
   ]
  },
  {
   "cell_type": "code",
   "execution_count": null,
   "metadata": {},
   "outputs": [],
   "source": [
    "test['trip_duration'] = model.predict(x_test)\n",
    "test.to_csv('submission.csv', index=False)"
   ]
  }
 ],
 "metadata": {
  "kernelspec": {
   "display_name": "Python 2",
   "language": "python",
   "name": "python2"
  },
  "language_info": {
   "codemirror_mode": {
    "name": "ipython",
    "version": 2
   },
   "file_extension": ".py",
   "mimetype": "text/x-python",
   "name": "python",
   "nbconvert_exporter": "python",
   "pygments_lexer": "ipython2",
   "version": "2.7.14"
  }
 },
 "nbformat": 4,
 "nbformat_minor": 2
}
